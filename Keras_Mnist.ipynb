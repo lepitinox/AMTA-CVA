{
 "cells": [
  {
   "cell_type": "code",
   "execution_count": 56,
   "metadata": {},
   "outputs": [],
   "source": [
    "import theano\n",
    "import numpy as np\n",
    "np.random.seed(123) #reproductibilité\n",
    "\n",
    "#sequential est un type de reseau de neuronnes lineaire\n",
    "from keras.models import Sequential \n",
    "\n",
    "#importer les fonctions d'activation a utilsier entre les differentes couches du reseau\n",
    "from keras.layers import Dense, Dropout, Activation, Flatten\n",
    "\n",
    "#couches de convoluton\n",
    "from keras.layers import Convolution2D, MaxPooling2D\n",
    "\n",
    "from keras.utils import np_utils"
   ]
  },
  {
   "cell_type": "code",
   "execution_count": 57,
   "metadata": {},
   "outputs": [],
   "source": [
    "#telechargement et datasplit de la librairie mnist (chiffres et lettres ecrits a la main)\n",
    "from keras.datasets import mnist\n",
    "(X_train, y_train), (X_test, y_test) = mnist.load_data()"
   ]
  },
  {
   "cell_type": "code",
   "execution_count": 58,
   "metadata": {},
   "outputs": [
    {
     "name": "stdout",
     "output_type": "stream",
     "text": [
      "la taille de l'entrainement est (60000, 28, 28)\n"
     ]
    }
   ],
   "source": [
    "print(\"la taille de l'entrainement est\", X_train.shape)\n",
    "#on obtient 60000 images de taille 28x28 pixels"
   ]
  },
  {
   "cell_type": "code",
   "execution_count": 59,
   "metadata": {},
   "outputs": [
    {
     "data": {
      "text/plain": [
       "<matplotlib.image.AxesImage at 0x2cf389f57c8>"
      ]
     },
     "execution_count": 59,
     "metadata": {},
     "output_type": "execute_result"
    },
    {
     "data": {
      "image/png": "[encoded data removed]",
      "text/plain": [
       "<Figure size 432x288 with 1 Axes>"
      ]
     },
     "metadata": {
      "needs_background": "light"
     },
     "output_type": "display_data"
    }
   ],
   "source": [
    "### pour visualiser une des images et verifier ce a quoi on a affaire\n",
    "from matplotlib import pyplot as plt\n",
    "plt.imshow(X_train[0])"
   ]
  },
  {
   "cell_type": "code",
   "execution_count": 60,
   "metadata": {},
   "outputs": [],
   "source": [
    "#PREPROCESSING"
   ]
  },
  {
   "cell_type": "code",
   "execution_count": 61,
   "metadata": {},
   "outputs": [
    {
     "name": "stdout",
     "output_type": "stream",
     "text": [
      "(60000, 1, 28, 28)\n"
     ]
    }
   ],
   "source": [
    "#Reshape data pour ajouter une dimension profondeur qui correspond au codage en couleur. Ici cette profondeur vaut 1 \n",
    "#mais elle vaudrait 3 si nous prenions un codage RGB. Les autres dimensions sont longueur, largeur, hauteur.\n",
    "\n",
    "X_train = X_train.reshape(X_train.shape[0], 1, 28, 28)\n",
    "X_test = X_test.reshape(X_test.shape[0], 1, 28,28)\n",
    "\n",
    "print(X_train.shape)"
   ]
  },
  {
   "cell_type": "code",
   "execution_count": 62,
   "metadata": {},
   "outputs": [
    {
     "name": "stdout",
     "output_type": "stream",
     "text": [
      "(60000,)\n"
     ]
    }
   ],
   "source": [
    "#normalisation des donnes sur [0,1]\n",
    "X_train = X_train.astype('float32')\n",
    "X_test = X_test.astype('float32')\n",
    "\n",
    "\n",
    "#valeur max de l'info = 255 pour un codage 8 bits\n",
    "X_train = X_train / 255\n",
    "X_test = X_test / 255\n",
    "\n",
    "\n",
    "print(y_train.shape)"
   ]
  },
  {
   "cell_type": "code",
   "execution_count": 63,
   "metadata": {},
   "outputs": [],
   "source": [
    "#One-hot encoding sur les target y : on regarde le nombre de classe (nombre de valeurs uniques) contenues dans y et\n",
    "#on transforme les donnes en valeurs de 0 a 1 en fonction de l'appartenance a la classe\n",
    "#confere methode one-hot encoding pour plus de comprehenssion\n",
    "\n",
    "#ici il y a 10 classes (chiffres de 0 a 9)\n",
    "\n",
    "Y_train = np_utils.to_categorical(y_train, 10)\n",
    "Y_test = np_utils.to_categorical(y_test, 10)"
   ]
  },
  {
   "cell_type": "code",
   "execution_count": 64,
   "metadata": {},
   "outputs": [
    {
     "name": "stdout",
     "output_type": "stream",
     "text": [
      "(60000, 10)\n"
     ]
    }
   ],
   "source": [
    "print(Y_train.shape)"
   ]
  },
  {
   "cell_type": "code",
   "execution_count": 65,
   "metadata": {},
   "outputs": [],
   "source": [
    "#BUILDING THE MODEL"
   ]
  },
  {
   "cell_type": "code",
   "execution_count": 66,
   "metadata": {},
   "outputs": [],
   "source": [
    "model = Sequential()"
   ]
  },
  {
   "cell_type": "code",
   "execution_count": 67,
   "metadata": {},
   "outputs": [],
   "source": [
    "#Creation de la premiere couche\n",
    "#input shape = taille des donnees en entree (taille de chaque image)\n",
    "#les valeurs 32,3,3 correspondent respectivement aux nombre de filtres de convolution, le nombre de ligne et de colonnes\n",
    "#pour chaque noyau\n",
    "\n",
    "model.add(Convolution2D(32, (1, 1), activation='relu', input_shape=(1,28,28)))"
   ]
  },
  {
   "cell_type": "code",
   "execution_count": 68,
   "metadata": {},
   "outputs": [
    {
     "name": "stdout",
     "output_type": "stream",
     "text": [
      "(None, 1, 28, 32)\n"
     ]
    }
   ],
   "source": [
    "print(model.output_shape)"
   ]
  },
  {
   "cell_type": "code",
   "execution_count": 69,
   "metadata": {},
   "outputs": [],
   "source": [
    "#ajout de 2 couche au reseau"
   ]
  },
  {
   "cell_type": "code",
   "execution_count": 70,
   "metadata": {},
   "outputs": [
    {
     "name": "stderr",
     "output_type": "stream",
     "text": [
      "c:\\users\\tkt\\appdata\\local\\programs\\python\\python37\\lib\\site-packages\\ipykernel_launcher.py:3: UserWarning: Update your `Conv2D` call to the Keras 2 API: `Conv2D(32, (1, 1), activation=\"relu\")`\n",
      "  This is separate from the ipykernel package so we can avoid doing imports until\n"
     ]
    }
   ],
   "source": [
    "#activation : fonction d'activation d'une couche a l'autre\n",
    "#dropout : extinction de certains neurones de la couche pour empecher l'overfitting (apprentissage par coeur) \n",
    "model.add(Convolution2D(32, 1, 1, activation='relu'))\n",
    "model.add(MaxPooling2D(pool_size=(1,1)))\n",
    "model.add(Dropout(0.25))"
   ]
  },
  {
   "cell_type": "code",
   "execution_count": 71,
   "metadata": {},
   "outputs": [],
   "source": [
    "#Nouvelles couches\n",
    "#A flatten operation on a tensor reshapes the tensor to have the shape that is equal to the number of \n",
    "#elements contained in tensor non including the batch dimension (convertit une matrice en array)\n",
    "\n",
    "#dense : regular connected layer\n",
    "\n",
    "model.add(Flatten())\n",
    "model.add(Dense(128, activation='relu'))\n",
    "model.add(Dropout(0.5))\n",
    "\n",
    "#output (derniere couche)\n",
    "model.add(Dense(10, activation='softmax'))"
   ]
  },
  {
   "cell_type": "code",
   "execution_count": 72,
   "metadata": {},
   "outputs": [],
   "source": [
    "#definition d'une fonction de coûts : mesure l'erreur entre la valeur predite par le modele et la vrai valeur\n",
    "#a chaque etape de l'entrainement et d'un optimizer : quelle valeur souhaite-t-on optimiser ?\n",
    "\n",
    "#ici : -loss function : categorical crossentropy\n",
    "#      -Optimizer :adam (gradient descent avec optimisation intelligente du learning rate au cours de l'entrainement)\n",
    "\n",
    "model.compile(loss='categorical_crossentropy',\n",
    "              optimizer='adam',\n",
    "              metrics=['accuracy'])"
   ]
  },
  {
   "cell_type": "code",
   "execution_count": 73,
   "metadata": {},
   "outputs": [],
   "source": [
    "#ENTRAINEMENT"
   ]
  },
  {
   "cell_type": "code",
   "execution_count": 75,
   "metadata": {},
   "outputs": [
    {
     "name": "stdout",
     "output_type": "stream",
     "text": [
      "Epoch 1/10\n",
      "  768/60000 [..............................] - ETA: 13s - loss: 0.0703 - accuracy: 0.9753"
     ]
    },
    {
     "name": "stderr",
     "output_type": "stream",
     "text": [
      "c:\\users\\tkt\\appdata\\local\\programs\\python\\python37\\lib\\site-packages\\ipykernel_launcher.py:3: UserWarning: The `nb_epoch` argument in `fit` has been renamed `epochs`.\n",
      "  This is separate from the ipykernel package so we can avoid doing imports until\n"
     ]
    },
    {
     "name": "stdout",
     "output_type": "stream",
     "text": [
      "60000/60000 [==============================] - 15s 244us/step - loss: 0.0945 - accuracy: 0.9703\n",
      "Epoch 2/10\n",
      "60000/60000 [==============================] - 15s 251us/step - loss: 0.0924 - accuracy: 0.9714\n",
      "Epoch 3/10\n",
      "60000/60000 [==============================] - 15s 253us/step - loss: 0.0898 - accuracy: 0.9720\n",
      "Epoch 4/10\n",
      "60000/60000 [==============================] - 14s 240us/step - loss: 0.0870 - accuracy: 0.9727\n",
      "Epoch 5/10\n",
      "60000/60000 [==============================] - 15s 250us/step - loss: 0.0850 - accuracy: 0.9728\n",
      "Epoch 6/10\n",
      "60000/60000 [==============================] - 15s 252us/step - loss: 0.0804 - accuracy: 0.9748\n",
      "Epoch 7/10\n",
      "60000/60000 [==============================] - 15s 246us/step - loss: 0.0818 - accuracy: 0.9735\n",
      "Epoch 8/10\n",
      "60000/60000 [==============================] - 15s 244us/step - loss: 0.0780 - accuracy: 0.9754\n",
      "Epoch 9/10\n",
      "60000/60000 [==============================] - 16s 262us/step - loss: 0.0772 - accuracy: 0.9757\n",
      "Epoch 10/10\n",
      "60000/60000 [==============================] - 16s 267us/step - loss: 0.0771 - accuracy: 0.9757\n"
     ]
    },
    {
     "data": {
      "text/plain": [
       "<keras.callbacks.callbacks.History at 0x2cf3a429508>"
      ]
     },
     "execution_count": 75,
     "metadata": {},
     "output_type": "execute_result"
    }
   ],
   "source": [
    "### on entraine par echantillion de 32 images\n",
    "#verbose = 1 : visualisation de l'evolution des entrainements (a ajuster en fonction des valeurs)\n",
    "model.fit(X_train, Y_train,batch_size=32, nb_epoch=10, verbose=1)"
   ]
  },
  {
   "cell_type": "code",
   "execution_count": 76,
   "metadata": {},
   "outputs": [],
   "source": [
    "#EVALUATION DU MODEL SUR LES DONNEES TEST JAMAIS VUES AU COURS DE LENTRAINEMENT"
   ]
  },
  {
   "cell_type": "code",
   "execution_count": 79,
   "metadata": {},
   "outputs": [
    {
     "name": "stdout",
     "output_type": "stream",
     "text": [
      "10000/10000 [==============================] - 1s 66us/step\n"
     ]
    }
   ],
   "source": [
    "score = model.evaluate(X_test, Y_test, verbose = 1)"
   ]
  },
  {
   "cell_type": "code",
   "execution_count": 80,
   "metadata": {},
   "outputs": [
    {
     "name": "stdout",
     "output_type": "stream",
     "text": [
      "[0.06267585167483193, 0.9814000129699707]\n"
     ]
    }
   ],
   "source": [
    "print(score)"
   ]
  },
  {
   "cell_type": "code",
   "execution_count": 85,
   "metadata": {},
   "outputs": [
    {
     "ename": "AttributeError",
     "evalue": "'list' object has no attribute 'size'",
     "output_type": "error",
     "traceback": [
      "\u001b[1;31m---------------------------------------------------------------------------\u001b[0m",
      "\u001b[1;31mAttributeError\u001b[0m                            Traceback (most recent call last)",
      "\u001b[1;32m<ipython-input-85-77fc7ba8259e>\u001b[0m in \u001b[0;36m<module>\u001b[1;34m\u001b[0m\n\u001b[1;32m----> 1\u001b[1;33m \u001b[0mscore\u001b[0m\u001b[1;33m.\u001b[0m\u001b[0msize\u001b[0m\u001b[1;33m(\u001b[0m\u001b[1;33m)\u001b[0m\u001b[1;33m\u001b[0m\u001b[1;33m\u001b[0m\u001b[0m\n\u001b[0m",
      "\u001b[1;31mAttributeError\u001b[0m: 'list' object has no attribute 'size'"
     ]
    }
   ],
   "source": []
  },
  {
   "cell_type": "code",
   "execution_count": null,
   "metadata": {},
   "outputs": [],
   "source": []
  }
 ],
 "metadata": {
  "kernelspec": {
   "display_name": "Python 3",
   "language": "python",
   "name": "python3"
  },
  "language_info": {
   "codemirror_mode": {
    "name": "ipython",
    "version": 3
   },
   "file_extension": ".py",
   "mimetype": "text/x-python",
   "name": "python",
   "nbconvert_exporter": "python",
   "pygments_lexer": "ipython3",
   "version": "3.7.4"
  }
 },
 "nbformat": 4,
 "nbformat_minor": 2
}
